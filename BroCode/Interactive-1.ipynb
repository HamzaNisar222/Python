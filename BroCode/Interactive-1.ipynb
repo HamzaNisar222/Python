{
 "cells": [
  {
   "cell_type": "markdown",
   "metadata": {},
   "source": [
    "Connected to Python 3.9.6"
   ]
  },
  {
   "cell_type": "code",
   "execution_count": 1,
   "id": "7befd4ae-210a-4561-8a82-da07e53c6fe4",
   "metadata": {},
   "outputs": [
    {
     "name": "stdout",
     "output_type": "stream",
     "text": [
      "1234567890"
     ]
    }
   ],
   "source": [
    "# Loop controll statememts are used to modify a a loops execution from its normal sequense\n",
    "\n",
    "# break is used to terminate the loop intirely \n",
    "# countinue skips to the next itteration of loop \n",
    "# pass does nothing acts as a place holder\n",
    "\n",
    "# while True:\n",
    "#     name=input(\"Enter your name:\")\n",
    "#     if name!=\"\":\n",
    "#         break\n",
    "\n",
    "phone = \"123-456-7890\"\n",
    "for i in phone:\n",
    "    if i == \"-\":\n",
    "        continue     \n",
    "    print(i , end=\"\")"
   ]
  },
  {
   "cell_type": "code",
   "execution_count": 2,
   "id": "d7209d8f-9400-4ecf-b39e-b12f6575277f",
   "metadata": {},
   "outputs": [
    {
     "name": "stdout",
     "output_type": "stream",
     "text": [
      "1234567890"
     ]
    }
   ],
   "source": [
    "# Loop controll statememts are used to modify a a loops execution from its normal sequense\n",
    "\n",
    "# break is used to terminate the loop intirely \n",
    "# countinue skips to the next itteration of loop \n",
    "# pass does nothing acts as a place holder\n",
    "\n",
    "# while True:\n",
    "#     name=input(\"Enter your name:\")\n",
    "#     if name!=\"\":\n",
    "#         break\n",
    "\n",
    "phone = \"123-456-7890\"\n",
    "for i in phone:\n",
    "    if i == \"-\":\n",
    "        continue     \n",
    "    print(i , end=\"\")"
   ]
  },
  {
   "cell_type": "code",
   "execution_count": 3,
   "id": "ce26fe13-817e-4b54-9c9a-da51241486fb",
   "metadata": {},
   "outputs": [
    {
     "ename": "ValueError",
     "evalue": "invalid literal for int() with base 10: 'fsdfds'",
     "output_type": "error",
     "traceback": [
      "\u001b[0;31m---------------------------------------------------------------------------\u001b[0m",
      "\u001b[0;31mValueError\u001b[0m                                Traceback (most recent call last)",
      "File \u001b[1;32m/Users/hamzanisar/Downloads/Python/BroCode/nestedloops.py:3\u001b[0m\n\u001b[1;32m      1\u001b[0m \u001b[39m#nested loops in the inner loop will finish all its iterations before the outer one finishes its one iteration\u001b[39;00m\n\u001b[0;32m----> 3\u001b[0m rows\u001b[39m=\u001b[39m\u001b[39mint\u001b[39;49m(\u001b[39minput\u001b[39;49m(\u001b[39m\"\u001b[39;49m\u001b[39mHow many rows do you want?:\u001b[39;49m\u001b[39m\"\u001b[39;49m)) \u001b[39m#input for rows\u001b[39;00m\n\u001b[1;32m      4\u001b[0m columns\u001b[39m=\u001b[39m\u001b[39mint\u001b[39m(\u001b[39minput\u001b[39m(\u001b[39m\"\u001b[39m\u001b[39mHow many columns do you want?:\u001b[39m\u001b[39m\"\u001b[39m))\u001b[39m#input for columns\u001b[39;00m\n\u001b[1;32m      5\u001b[0m symbol\u001b[39m=\u001b[39m\u001b[39minput\u001b[39m(\u001b[39m\"\u001b[39m\u001b[39mWhat symbol do you want?:\u001b[39m\u001b[39m\"\u001b[39m)\u001b[39m#input for synbol\u001b[39;00m\n",
      "\u001b[0;31mValueError\u001b[0m: invalid literal for int() with base 10: 'fsdfds'"
     ]
    }
   ],
   "source": [
    "#nested loops in the inner loop will finish all its iterations before the outer one finishes its one iteration\n",
    "\n",
    "rows=int(input(\"How many rows do you want?:\")) #input for rows\n",
    "columns=int(input(\"How many columns do you want?:\"))#input for columns\n",
    "symbol=input(\"What symbol do you want?:\")#input for synbol\n",
    "for i in range(rows):#Loop responsible for rows \n",
    "    for j in range(columns):#lopp responsible for columns\n",
    "        print(symbol,end=\"\")\n",
    "    print()\n",
    "    \n",
    " \n",
    "for i in range(rows):#Loop responsible for rows \n",
    " for j in range(i+1):#lopp responsible for columns\n",
    "        print(symbol,end=\"\")\n",
    " print()"
   ]
  },
  {
   "cell_type": "code",
   "execution_count": 4,
   "id": "ab3b87e3-b049-4485-af75-9e3257c1cd07",
   "metadata": {},
   "outputs": [
    {
     "name": "stdout",
     "output_type": "stream",
     "text": [
      "1234567890"
     ]
    }
   ],
   "source": [
    "# Loop controll statememts are used to modify a a loops execution from its normal sequense\n",
    "\n",
    "# break is used to terminate the loop intirely \n",
    "# countinue skips to the next itteration of loop \n",
    "# pass does nothing acts as a place holder\n",
    "\n",
    "# while True:\n",
    "#     name=input(\"Enter your name:\")\n",
    "#     if name!=\"\":\n",
    "#         break\n",
    "\n",
    "phone = \"123-456-7890\"\n",
    "for i in phone:\n",
    "    if i == \"-\":\n",
    "        continue     \n",
    "    print(i , end=\"\")"
   ]
  },
  {
   "cell_type": "code",
   "execution_count": 5,
   "id": "6dfed38f-dfa6-4f79-ad45-1d009ecb7f47",
   "metadata": {},
   "outputs": [
    {
     "name": "stdout",
     "output_type": "stream",
     "text": [
      "1234567890"
     ]
    }
   ],
   "source": [
    "# Loop controll statememts are used to modify a a loops execution from its normal sequense\n",
    "\n",
    "# break is used to terminate the loop intirely \n",
    "# countinue skips to the next itteration of loop \n",
    "# pass does nothing acts as a place holder\n",
    "\n",
    "# while True:\n",
    "#     name=input(\"Enter your name:\")\n",
    "#     if name!=\"\":\n",
    "#         break\n",
    "\n",
    "phone = \"123-456-7890\"\n",
    "for i in phone:\n",
    "    if i == \"-\":\n",
    "        continue     \n",
    "    print(i , end=\"\")"
   ]
  },
  {
   "cell_type": "code",
   "execution_count": 6,
   "id": "44273ffb-6bcd-4744-b44d-bf88e3331f15",
   "metadata": {},
   "outputs": [
    {
     "name": "stdout",
     "output_type": "stream",
     "text": [
      "1234567890"
     ]
    }
   ],
   "source": [
    "# Loop controll statememts are used to modify a a loops execution from its normal sequense\n",
    "\n",
    "# break is used to terminate the loop intirely \n",
    "# countinue skips to the next itteration of loop \n",
    "# pass does nothing acts as a place holder\n",
    "\n",
    "# while True:\n",
    "#     name=input(\"Enter your name:\")\n",
    "#     if name!=\"\":\n",
    "#         break\n",
    "\n",
    "phone = \"123-456-7890\"\n",
    "for i in phone:\n",
    "    if i == \"-\":\n",
    "        continue     \n",
    "    print(i , end=\"\")"
   ]
  },
  {
   "cell_type": "code",
   "execution_count": 7,
   "id": "486fc859-8b7e-43cc-9463-4248760b49c4",
   "metadata": {},
   "outputs": [
    {
     "name": "stdout",
     "output_type": "stream",
     "text": [
      "1234567890"
     ]
    }
   ],
   "source": [
    "# Loop controll statememts are used to modify a a loops execution from its normal sequense\n",
    "\n",
    "# break is used to terminate the loop intirely \n",
    "# countinue skips to the next itteration of loop \n",
    "# pass does nothing acts as a place holder\n",
    "\n",
    "# while True:\n",
    "#     name=input(\"Enter your name:\")\n",
    "#     if name!=\"\":\n",
    "#         break\n",
    "\n",
    "phone = \"123-456-7890\"\n",
    "for i in phone:\n",
    "    if i == \"-\":\n",
    "        continue     \n",
    "    print(i , end=\"\")"
   ]
  },
  {
   "cell_type": "code",
   "execution_count": 8,
   "id": "6bdbae56-bddc-44f0-a8d4-7ab4a2efb6e6",
   "metadata": {},
   "outputs": [
    {
     "name": "stdout",
     "output_type": "stream",
     "text": [
      "1234567890"
     ]
    }
   ],
   "source": [
    "# Loop controll statememts are used to modify a a loops execution from its normal sequense\n",
    "\n",
    "# break is used to terminate the loop intirely \n",
    "# countinue skips to the next itteration of loop \n",
    "# pass does nothing acts as a place holder\n",
    "\n",
    "# while True:\n",
    "#     name=input(\"Enter your name:\")\n",
    "#     if name!=\"\":\n",
    "#         break\n",
    "\n",
    "phone = \"123-456-7890\"\n",
    "for i in phone:\n",
    "    if i == \"-\":\n",
    "        continue     \n",
    "    print(i , end=\"\")"
   ]
  },
  {
   "cell_type": "code",
   "execution_count": 9,
   "id": "59d216b0-5b9d-455a-832b-f2da8442d100",
   "metadata": {},
   "outputs": [
    {
     "name": "stdout",
     "output_type": "stream",
     "text": [
      "1234567890"
     ]
    }
   ],
   "source": [
    "# Loop controll statememts are used to modify a a loops execution from its normal sequense\n",
    "\n",
    "# break is used to terminate the loop intirely \n",
    "# countinue skips to the next itteration of loop \n",
    "# pass does nothing acts as a place holder\n",
    "\n",
    "# while True:\n",
    "#     name=input(\"Enter your name:\")\n",
    "#     if name!=\"\":\n",
    "#         break\n",
    "\n",
    "phone = \"123-456-7890\"\n",
    "for i in phone:\n",
    "    if i == \"-\":\n",
    "        continue     \n",
    "    print(i , end=\"\")"
   ]
  },
  {
   "cell_type": "code",
   "execution_count": 10,
   "id": "0d6fb976-51c6-4a97-84cc-d3cf08daa91d",
   "metadata": {},
   "outputs": [
    {
     "name": "stdout",
     "output_type": "stream",
     "text": [
      "1234567890"
     ]
    }
   ],
   "source": [
    "# Loop controll statememts are used to modify a a loops execution from its normal sequense\n",
    "\n",
    "# break is used to terminate the loop intirely \n",
    "# countinue skips to the next itteration of loop \n",
    "# pass does nothing acts as a place holder\n",
    "\n",
    "# while True:\n",
    "#     name=input(\"Enter your name:\")\n",
    "#     if name!=\"\":\n",
    "#         break\n",
    "\n",
    "phone = \"123-456-7890\"\n",
    "for i in phone:\n",
    "    if i == \"-\":\n",
    "        continue     \n",
    "    print(i , end=\"\")"
   ]
  },
  {
   "cell_type": "code",
   "execution_count": 11,
   "id": "10fc5cf1-f1e4-4a6f-8f18-2d062a675e8e",
   "metadata": {},
   "outputs": [
    {
     "name": "stdout",
     "output_type": "stream",
     "text": [
      "##########################################################################################\n",
      "##########################################################################################\n",
      "##########################################################################################\n",
      "##########################################################################################\n",
      "##########################################################################################\n",
      "##########################################################################################\n",
      "##########################################################################################\n",
      "##########################################################################################\n",
      "##########################################################################################\n",
      "##########################################################################################\n",
      "##########################################################################################\n",
      "##########################################################################################\n",
      "##########################################################################################\n",
      "##########################################################################################\n",
      "##########################################################################################\n",
      "##########################################################################################\n",
      "##########################################################################################\n",
      "##########################################################################################\n",
      "##########################################################################################\n",
      "##########################################################################################\n",
      "##########################################################################################\n",
      "##########################################################################################\n",
      "##########################################################################################\n",
      "##########################################################################################\n",
      "##########################################################################################\n",
      "##########################################################################################\n",
      "##########################################################################################\n",
      "##########################################################################################\n",
      "##########################################################################################\n",
      "##########################################################################################\n",
      "##########################################################################################\n",
      "##########################################################################################\n",
      "##########################################################################################\n",
      "##########################################################################################\n",
      "##########################################################################################\n",
      "##########################################################################################\n",
      "##########################################################################################\n",
      "##########################################################################################\n",
      "##########################################################################################\n",
      "##########################################################################################\n",
      "##########################################################################################\n",
      "##########################################################################################\n",
      "##########################################################################################\n",
      "##########################################################################################\n",
      "##########################################################################################\n",
      "#\n",
      "##\n",
      "###\n",
      "####\n",
      "#####\n",
      "######\n",
      "#######\n",
      "########\n",
      "#########\n",
      "##########\n",
      "###########\n",
      "############\n",
      "#############\n",
      "##############\n",
      "###############\n",
      "################\n",
      "#################\n",
      "##################\n",
      "###################\n",
      "####################\n",
      "#####################\n",
      "######################\n",
      "#######################\n",
      "########################\n",
      "#########################\n",
      "##########################\n",
      "###########################\n",
      "############################\n",
      "#############################\n",
      "##############################\n",
      "###############################\n",
      "################################\n",
      "#################################\n",
      "##################################\n",
      "###################################\n",
      "####################################\n",
      "#####################################\n",
      "######################################\n",
      "#######################################\n",
      "########################################\n",
      "#########################################\n",
      "##########################################\n",
      "###########################################\n",
      "############################################\n",
      "#############################################\n"
     ]
    }
   ],
   "source": [
    "#nested loops in the inner loop will finish all its iterations before the outer one finishes its one iteration\n",
    "\n",
    "rows=int(input(\"How many rows do you want?:\")) #input for rows\n",
    "columns=int(input(\"How many columns do you want?:\"))#input for columns\n",
    "symbol=input(\"What symbol do you want?:\")#input for synbol\n",
    "for i in range(rows):#Loop responsible for rows \n",
    "    for j in range(columns):#lopp responsible for columns\n",
    "        print(symbol,end=\"\")\n",
    "    print()\n",
    "    \n",
    " \n",
    "for i in range(rows):#Loop responsible for rows \n",
    " for j in range(i+1):#lopp responsible for columns\n",
    "        print(symbol,end=\"\")\n",
    " print()"
   ]
  },
  {
   "cell_type": "code",
   "execution_count": 12,
   "id": "730a6a79-343b-49fe-a288-1117e560ba5f",
   "metadata": {},
   "outputs": [
    {
     "name": "stdout",
     "output_type": "stream",
     "text": [
      "12345678901\n",
      "2\n",
      "3\n",
      "4\n",
      "5\n",
      "6\n",
      "7\n",
      "8\n",
      "9\n",
      "10\n",
      "11\n",
      "12\n",
      "13\n",
      "14\n",
      "15\n",
      "16\n",
      "17\n",
      "18\n",
      "19\n",
      "20\n"
     ]
    }
   ],
   "source": [
    "# Loop controll statememts are used to modify a a loops execution from its normal sequense\n",
    "\n",
    "# break is used to terminate the loop intirely \n",
    "# countinue skips to the next itteration of loop \n",
    "# pass does nothing acts as a place holder\n",
    "\n",
    "while True:\n",
    "    name=input(\"Enter your name:\")\n",
    "    if name!=\"\":\n",
    "        break\n",
    "\n",
    "phone = \"123-456-7890\"\n",
    "for i in phone:\n",
    "    if i == \"-\":\n",
    "        continue     \n",
    "    print(i , end=\"\")\n",
    "    \n",
    "    \n",
    "for i in range(1,21):\n",
    "    if i==13:\n",
    "        pass\n",
    "    print(i)"
   ]
  },
  {
   "cell_type": "code",
   "execution_count": 13,
   "id": "310b18e9-0ebf-4e4d-a6f4-4f51bf9907f8",
   "metadata": {},
   "outputs": [
    {
     "name": "stdout",
     "output_type": "stream",
     "text": [
      "1\n",
      "2\n",
      "3\n",
      "4\n",
      "5\n",
      "6\n",
      "7\n",
      "8\n",
      "9\n",
      "10\n",
      "11\n",
      "12\n",
      "13\n",
      "14\n",
      "15\n",
      "16\n",
      "17\n",
      "18\n",
      "19\n",
      "20\n"
     ]
    }
   ],
   "source": [
    "# Loop controll statememts are used to modify a a loops execution from its normal sequense\n",
    "\n",
    "# break is used to terminate the loop intirely \n",
    "# countinue skips to the next itteration of loop \n",
    "# pass does nothing acts as a place holder\n",
    "\n",
    "# while True:\n",
    "#     name=input(\"Enter your name:\")\n",
    "#     if name!=\"\":\n",
    "#         break\n",
    "\n",
    "# phone = \"123-456-7890\"\n",
    "# for i in phone:\n",
    "#     if i == \"-\":\n",
    "#         continue     \n",
    "#     print(i , end=\"\")\n",
    "    \n",
    "    \n",
    "for i in range(1,21):\n",
    "    if i==13:\n",
    "        pass\n",
    "    print(i)"
   ]
  },
  {
   "cell_type": "code",
   "execution_count": 14,
   "id": "49c33be6-902c-41a9-9b04-d87494eb6e46",
   "metadata": {},
   "outputs": [
    {
     "name": "stdout",
     "output_type": "stream",
     "text": [
      "1\n",
      "2\n",
      "3\n",
      "4\n",
      "5\n",
      "6\n",
      "7\n",
      "8\n",
      "9\n",
      "10\n",
      "11\n",
      "12\n",
      "13\n",
      "14\n",
      "15\n",
      "16\n",
      "17\n",
      "18\n",
      "19\n",
      "20\n"
     ]
    }
   ],
   "source": [
    "# Loop controll statememts are used to modify a a loops execution from its normal sequense\n",
    "\n",
    "# break is used to terminate the loop intirely \n",
    "# countinue skips to the next itteration of loop \n",
    "# pass does nothing acts as a place holder\n",
    "\n",
    "# while True:\n",
    "#     name=input(\"Enter your name:\")\n",
    "#     if name!=\"\":\n",
    "#         break\n",
    "\n",
    "# phone = \"123-456-7890\"\n",
    "# for i in phone:\n",
    "#     if i == \"-\":\n",
    "#         continue     \n",
    "#     print(i , end=\"\")\n",
    "    \n",
    "    \n",
    "for i in range(1,21):\n",
    "    if i == 13:\n",
    "        pass\n",
    "    print(i)"
   ]
  },
  {
   "cell_type": "code",
   "execution_count": 15,
   "id": "a3203030-82df-4222-891b-ffd55ed45734",
   "metadata": {},
   "outputs": [
    {
     "name": "stdout",
     "output_type": "stream",
     "text": [
      "1\n",
      "2\n",
      "3\n",
      "4\n",
      "5\n",
      "6\n",
      "7\n",
      "8\n",
      "9\n",
      "10\n",
      "11\n",
      "12\n",
      "13\n",
      "14\n",
      "15\n",
      "16\n",
      "17\n",
      "18\n",
      "19\n",
      "20\n"
     ]
    }
   ],
   "source": [
    "# Loop controll statememts are used to modify a a loops execution from its normal sequense\n",
    "\n",
    "# break is used to terminate the loop intirely \n",
    "# countinue skips to the next itteration of loop \n",
    "# pass does nothing acts as a place holder\n",
    "\n",
    "# while True:\n",
    "#     name=input(\"Enter your name:\")\n",
    "#     if name!=\"\":\n",
    "#         break\n",
    "\n",
    "# phone = \"123-456-7890\"\n",
    "# for i in phone:\n",
    "#     if i == \"-\":\n",
    "#         continue     \n",
    "#     print(i , end=\"\")\n",
    "    \n",
    "    \n",
    "for i in range(1,21):\n",
    "    if i == 13:\n",
    "        pass\n",
    "    print(i)"
   ]
  }
 ],
 "metadata": {
  "kernelspec": {
   "display_name": "Python 3",
   "language": "python",
   "name": "python3"
  },
  "language_info": {
   "name": "python",
   "version": "3.9.6"
  }
 },
 "nbformat": 4,
 "nbformat_minor": 2
}
